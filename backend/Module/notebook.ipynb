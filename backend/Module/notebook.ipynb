{
 "cells": [
  {
   "cell_type": "code",
   "execution_count": 3,
   "metadata": {},
   "outputs": [
    {
     "name": "stdout",
     "output_type": "stream",
     "text": [
      "c:\\Users\\aqs45\\OneDrive\\바탕 화면\\repo\\WorldStory_AI\\backend\\Module\n",
      "['Lyra Silvermist', 'Xander Shadowblade']\n"
     ]
    }
   ],
   "source": [
    "import os\n",
    "import json\n",
    "\n",
    "cur_dir = os.getcwd()\n",
    "char_path = os.path.join(cur_dir,'..' ,'Characters')\n",
    "char_list = os.listdir(char_path)\n",
    "char_folder_names = []\n",
    "\n",
    "if os.path.exists(char_path) and os.path.isdir(char_path):\n",
    "  for folder_name in os.listdir(char_path):\n",
    "    folder_path = os.path.join(char_path, folder_name)\n",
    "    if os.path.isdir(folder_path):\n",
    "      char_folder_names.append(folder_name)\n",
    "\n",
    "print(char_folder_names)"
   ]
  },
  {
   "cell_type": "code",
   "execution_count": 20,
   "metadata": {},
   "outputs": [
    {
     "name": "stdout",
     "output_type": "stream",
     "text": [
      "g4f.provider.ChatBase supports: (model: str, messages: list[dict[str, str]], stream: bool)\n",
      "Hello! How can I assist you today?"
     ]
    }
   ],
   "source": [
    "import g4f\n",
    "\n",
    "\n",
    "print(g4f.Provider.ChatBase.params)  # supported args\n",
    "\n",
    "# Automatic selection of provider\n",
    "\n",
    "# streamed completion\n",
    "response = g4f.ChatCompletion.create(\n",
    "    model=\"gpt-3.5-turbo\",\n",
    "    messages=[{\"role\": \"user\", \"content\": \"hi there\"}],\n",
    "    provider=g4f.Provider.GptGo,\n",
    "    stream=True,\n",
    ")\n",
    "\n",
    "for message in response:\n",
    "    print(message, flush=True, end='')\n",
    "\n",
    "# # normal response\n",
    "# response = g4f.ChatCompletion.create(\n",
    "#     model=g4f.models.gpt_4,\n",
    "#     messages=[{\"role\": \"user\", \"content\": \"hi\"}],\n",
    "# )  # alterative model setting\n",
    "\n",
    "# print(response)"
   ]
  },
  {
   "cell_type": "code",
   "execution_count": 18,
   "metadata": {},
   "outputs": [
    {
     "name": "stdout",
     "output_type": "stream",
     "text": [
      "You: Failed to perform, ErrCode: 77, Reason: 'error setting certificate verify locations:  CAfile: c:\\Users\\aqs45\\OneDrive\\바탕 화면\\repo\\WorldStory_AI\\backend\\worldstory_backend\\lib\\site-packages\\curl_cffi\\cacert.pem CApath: none'\n",
      "Aichat: 403, message='Forbidden', url=URL('https://chat-gpt.org/api/text')\n",
      "DeepAi: 401, message='Unauthorized', url=URL('https://api.deepai.org/hacking_is_a_crime')\n",
      "ChatBase: 500, message='Internal Server Error', url=URL('https://www.chatbase.co/api/fe/chat')\n",
      "Yqcloud: IP address is blocked by abuse detection.\n",
      "GptGo: I am an artificial intelligence created by OpenAI, so I do not have a name. You can call me OpenAI if you'd like. How can I assist you today?\n",
      "Bing: Hello, this is Bing. How can I help? 😊\n"
     ]
    }
   ],
   "source": [
    "import g4f, asyncio\n",
    "\n",
    "_providers = [\n",
    "    g4f.Provider.Aichat,\n",
    "    g4f.Provider.ChatBase,\n",
    "    g4f.Provider.Bing,\n",
    "    g4f.Provider.DeepAi,\n",
    "    g4f.Provider.GptGo,\n",
    "    g4f.Provider.You,\n",
    "    g4f.Provider.Yqcloud,\n",
    "]\n",
    "\n",
    "async def run_provider(provider: g4f.Provider.BaseProvider):\n",
    "    try:\n",
    "        response = await g4f.ChatCompletion.create_async(\n",
    "            model=g4f.models.default,\n",
    "            messages=[{\"role\": \"user\", \"content\": \"what your name?\"}],\n",
    "            provider=provider,\n",
    "        )\n",
    "        print(f\"{provider.__name__}:\", response)\n",
    "    except Exception as e:\n",
    "        print(f\"{provider.__name__}:\", e)\n",
    "        \n",
    "async def run_all():\n",
    "    calls = [\n",
    "        run_provider(provider) for provider in _providers\n",
    "    ]\n",
    "    await asyncio.gather(*calls)\n",
    "\n",
    "asyncio.run(run_all())"
   ]
  },
  {
   "cell_type": "code",
   "execution_count": null,
   "metadata": {},
   "outputs": [],
   "source": []
  }
 ],
 "metadata": {
  "kernelspec": {
   "display_name": "langctest",
   "language": "python",
   "name": "python3"
  },
  "language_info": {
   "codemirror_mode": {
    "name": "ipython",
    "version": 3
   },
   "file_extension": ".py",
   "mimetype": "text/x-python",
   "name": "python",
   "nbconvert_exporter": "python",
   "pygments_lexer": "ipython3",
   "version": "3.10.11"
  },
  "orig_nbformat": 4
 },
 "nbformat": 4,
 "nbformat_minor": 2
}
