{
 "cells": [
  {
   "cell_type": "code",
   "execution_count": 3,
   "metadata": {},
   "outputs": [
    {
     "name": "stdout",
     "output_type": "stream",
     "text": [
      "c:\\Users\\aqs45\\OneDrive\\바탕 화면\\repo\\WorldStory_AI\\backend\\Module\n",
      "['Lyra Silvermist', 'Xander Shadowblade']\n"
     ]
    }
   ],
   "source": [
    "import os\n",
    "import json\n",
    "\n",
    "cur_dir = os.getcwd()\n",
    "char_path = os.path.join(cur_dir,'..' ,'Characters')\n",
    "char_list = os.listdir(char_path)\n",
    "char_folder_names = []\n",
    "\n",
    "if os.path.exists(char_path) and os.path.isdir(char_path):\n",
    "  for folder_name in os.listdir(char_path):\n",
    "    folder_path = os.path.join(char_path, folder_name)\n",
    "    if os.path.isdir(folder_path):\n",
    "      char_folder_names.append(folder_name)\n",
    "\n",
    "print(char_folder_names)"
   ]
  },
  {
   "cell_type": "code",
   "execution_count": null,
   "metadata": {},
   "outputs": [],
   "source": []
  }
 ],
 "metadata": {
  "kernelspec": {
   "display_name": "langctest",
   "language": "python",
   "name": "python3"
  },
  "language_info": {
   "codemirror_mode": {
    "name": "ipython",
    "version": 3
   },
   "file_extension": ".py",
   "mimetype": "text/x-python",
   "name": "python",
   "nbconvert_exporter": "python",
   "pygments_lexer": "ipython3",
   "version": "3.11.5"
  },
  "orig_nbformat": 4
 },
 "nbformat": 4,
 "nbformat_minor": 2
}
