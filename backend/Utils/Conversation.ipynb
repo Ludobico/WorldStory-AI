{
 "cells": [
  {
   "cell_type": "code",
   "execution_count": 12,
   "metadata": {},
   "outputs": [
    {
     "name": "stdout",
     "output_type": "stream",
     "text": [
      "['c:\\\\Users\\\\aqs45\\\\OneDrive\\\\바탕 화면\\\\repo\\\\WorldStory_AI\\\\backend\\\\Utils', 'C:\\\\Users\\\\aqs45\\\\AppData\\\\Local\\\\Programs\\\\Python\\\\Python310\\\\python310.zip', 'C:\\\\Users\\\\aqs45\\\\AppData\\\\Local\\\\Programs\\\\Python\\\\Python310\\\\DLLs', 'C:\\\\Users\\\\aqs45\\\\AppData\\\\Local\\\\Programs\\\\Python\\\\Python310\\\\lib', 'C:\\\\Users\\\\aqs45\\\\AppData\\\\Local\\\\Programs\\\\Python\\\\Python310', 'c:\\\\Users\\\\aqs45\\\\OneDrive\\\\바탕 화면\\\\repo\\\\WorldStory_AI\\\\backend\\\\worldstory_backend', '', 'c:\\\\Users\\\\aqs45\\\\OneDrive\\\\바탕 화면\\\\repo\\\\WorldStory_AI\\\\backend\\\\worldstory_backend\\\\lib\\\\site-packages', 'c:\\\\Users\\\\aqs45\\\\OneDrive\\\\바탕 화면\\\\repo\\\\WorldStory_AI\\\\backend\\\\worldstory_backend\\\\lib\\\\site-packages\\\\win32', 'c:\\\\Users\\\\aqs45\\\\OneDrive\\\\바탕 화면\\\\repo\\\\WorldStory_AI\\\\backend\\\\worldstory_backend\\\\lib\\\\site-packages\\\\win32\\\\lib', 'c:\\\\Users\\\\aqs45\\\\OneDrive\\\\바탕 화면\\\\repo\\\\WorldStory_AI\\\\backend\\\\worldstory_backend\\\\lib\\\\site-packages\\\\Pythonwin', 'c:\\\\Users\\\\aqs45\\\\OneDrive\\\\바탕 화면\\\\repo\\\\WorldStory_AI\\\\backend\\\\Module', 'c:\\\\Users\\\\aqs45\\\\OneDrive\\\\바탕 화면\\\\repo\\\\WorldStory_AI\\\\backend\\\\Module']\n"
     ]
    }
   ],
   "source": [
    "import sys\n",
    "import os\n",
    "module_path = os.path.abspath(os.path.join('..'))\n",
    "if module_path not in sys.path:\n",
    "  sys.path.append(module_path + \"\\\\Module\")\n",
    "\n",
    "print(sys.path)"
   ]
  },
  {
   "cell_type": "code",
   "execution_count": 27,
   "metadata": {},
   "outputs": [],
   "source": [
    "import os\n",
    "import json\n",
    "from langchain.chains import ConversationChain\n",
    "from langchain import PromptTemplate\n",
    "from langchain.memory import ConversationBufferMemory\n",
    "from langchain.llms.base import LLM\n",
    "from langchain_g4f import G4FLLM\n",
    "import g4f\n",
    "from g4f import Provider, models\n",
    "\n",
    "llm: LLM = G4FLLM(model=models.gpt_35_turbo, provider=Provider.DeepAi, verbose=True)\n",
    "template = \"\"\"The following is a friendly conversation between a human and an AI. The AI is talkative and provides lots of specific details from its context. If the AI does not know the answer to a question, it truthfully says it does not know.\n",
    "\n",
    "Current conversation:\n",
    "{history}\n",
    "Human: {input}\n",
    "AI Assistant:\"\"\"\n",
    "\n",
    "prompt = PromptTemplate(input_variables=[\"history\", \"input\"], template=template)\n",
    "\n",
    "llmchain = ConversationChain(llm=llm, prompt=prompt, memory=ConversationBufferMemory(ai_prefix=\"Answer\"), verbose=True)"
   ]
  },
  {
   "cell_type": "code",
   "execution_count": 28,
   "metadata": {},
   "outputs": [
    {
     "name": "stdout",
     "output_type": "stream",
     "text": [
      "\n",
      "\n",
      "\u001b[1m> Entering new ConversationChain chain...\u001b[0m\n",
      "Prompt after formatting:\n",
      "\u001b[32;1m\u001b[1;3mThe following is a friendly conversation between a human and an AI. The AI is talkative and provides lots of specific details from its context. If the AI does not know the answer to a question, it truthfully says it does not know.\n",
      "\n",
      "Current conversation:\n",
      "\n",
      "Human: what's your name?\n",
      "AI Assistant:\u001b[0m\n",
      "\n",
      "\u001b[1m> Finished chain.\u001b[0m\n"
     ]
    },
    {
     "data": {
      "text/plain": [
       "'My name is OpenAI Assistant! How can I help you today?'"
      ]
     },
     "execution_count": 28,
     "metadata": {},
     "output_type": "execute_result"
    }
   ],
   "source": [
    "llmchain.run(input=\"what's your name?\")"
   ]
  },
  {
   "cell_type": "code",
   "execution_count": 22,
   "metadata": {},
   "outputs": [
    {
     "name": "stdout",
     "output_type": "stream",
     "text": [
      "\n",
      "\n",
      "\u001b[1m> Entering new ConversationChain chain...\u001b[0m\n",
      "Prompt after formatting:\n",
      "\u001b[32;1m\u001b[1;3mThe following is a friendly conversation between a human and an AI. The AI is talkative and provides lots of specific details from its context. If the AI does not know the answer to a question, it truthfully says it does not know.\n",
      "\n",
      "Current conversation:\n",
      "Human: hi\n",
      "Answer: Hello there! It's great to meet you. How can I assist you today?\n",
      "Human: Who is the famous actor that said 'say my name?' \n",
      "AI Assistant:\u001b[0m\n",
      "\n",
      "\u001b[1m> Finished chain.\u001b[0m\n"
     ]
    },
    {
     "data": {
      "text/plain": [
       "'The famous actor who said \"say my name\" is Bryan Cranston, in his role as Walter White in the TV show Breaking Bad.'"
      ]
     },
     "execution_count": 22,
     "metadata": {},
     "output_type": "execute_result"
    }
   ],
   "source": [
    "llmchain.run(input=\"Who is the famous actor that said 'say my name?' \")"
   ]
  },
  {
   "cell_type": "code",
   "execution_count": 29,
   "metadata": {},
   "outputs": [
    {
     "name": "stdout",
     "output_type": "stream",
     "text": [
      "Human: what's your name?\n",
      "Answer: My name is OpenAI Assistant! How can I help you today?\n"
     ]
    }
   ],
   "source": [
    "print(llmchain.memory.buffer)"
   ]
  },
  {
   "cell_type": "code",
   "execution_count": null,
   "metadata": {},
   "outputs": [],
   "source": []
  }
 ],
 "metadata": {
  "kernelspec": {
   "display_name": "worldstory_backend",
   "language": "python",
   "name": "python3"
  },
  "language_info": {
   "codemirror_mode": {
    "name": "ipython",
    "version": 3
   },
   "file_extension": ".py",
   "mimetype": "text/x-python",
   "name": "python",
   "nbconvert_exporter": "python",
   "pygments_lexer": "ipython3",
   "version": "3.10.11"
  },
  "orig_nbformat": 4
 },
 "nbformat": 4,
 "nbformat_minor": 2
}
