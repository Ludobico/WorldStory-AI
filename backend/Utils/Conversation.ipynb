{
 "cells": [
  {
   "cell_type": "code",
   "execution_count": 7,
   "metadata": {},
   "outputs": [
    {
     "ename": "ModuleNotFoundError",
     "evalue": "No module named 'Module'",
     "output_type": "error",
     "traceback": [
      "\u001b[1;31m---------------------------------------------------------------------------\u001b[0m",
      "\u001b[1;31mModuleNotFoundError\u001b[0m                       Traceback (most recent call last)",
      "\u001b[1;32mc:\\Users\\aqs45\\OneDrive\\바탕 화면\\repo\\WorldStory_AI\\backend\\Utils\\Conversation.ipynb Cell 1\u001b[0m line \u001b[0;36m7\n\u001b[0;32m      <a href='vscode-notebook-cell:/c%3A/Users/aqs45/OneDrive/%EB%B0%94%ED%83%95%20%ED%99%94%EB%A9%B4/repo/WorldStory_AI/backend/Utils/Conversation.ipynb#W0sZmlsZQ%3D%3D?line=4'>5</a>\u001b[0m \u001b[39mfrom\u001b[39;00m \u001b[39mlangchain\u001b[39;00m\u001b[39m.\u001b[39;00m\u001b[39mmemory\u001b[39;00m \u001b[39mimport\u001b[39;00m ConversationBufferMemory\n\u001b[0;32m      <a href='vscode-notebook-cell:/c%3A/Users/aqs45/OneDrive/%EB%B0%94%ED%83%95%20%ED%99%94%EB%A9%B4/repo/WorldStory_AI/backend/Utils/Conversation.ipynb#W0sZmlsZQ%3D%3D?line=5'>6</a>\u001b[0m \u001b[39mfrom\u001b[39;00m \u001b[39mlangchain\u001b[39;00m\u001b[39m.\u001b[39;00m\u001b[39mllms\u001b[39;00m\u001b[39m.\u001b[39;00m\u001b[39mbase\u001b[39;00m \u001b[39mimport\u001b[39;00m LLM\n\u001b[1;32m----> <a href='vscode-notebook-cell:/c%3A/Users/aqs45/OneDrive/%EB%B0%94%ED%83%95%20%ED%99%94%EB%A9%B4/repo/WorldStory_AI/backend/Utils/Conversation.ipynb#W0sZmlsZQ%3D%3D?line=6'>7</a>\u001b[0m \u001b[39mfrom\u001b[39;00m \u001b[39mModule\u001b[39;00m\u001b[39m.\u001b[39;00m\u001b[39mG4FLLM\u001b[39;00m \u001b[39mimport\u001b[39;00m G4FLLM\n\u001b[0;32m      <a href='vscode-notebook-cell:/c%3A/Users/aqs45/OneDrive/%EB%B0%94%ED%83%95%20%ED%99%94%EB%A9%B4/repo/WorldStory_AI/backend/Utils/Conversation.ipynb#W0sZmlsZQ%3D%3D?line=7'>8</a>\u001b[0m \u001b[39mimport\u001b[39;00m \u001b[39mg4f\u001b[39;00m\n\u001b[0;32m      <a href='vscode-notebook-cell:/c%3A/Users/aqs45/OneDrive/%EB%B0%94%ED%83%95%20%ED%99%94%EB%A9%B4/repo/WorldStory_AI/backend/Utils/Conversation.ipynb#W0sZmlsZQ%3D%3D?line=8'>9</a>\u001b[0m \u001b[39mfrom\u001b[39;00m \u001b[39mg4f\u001b[39;00m \u001b[39mimport\u001b[39;00m Provider, models\n",
      "\u001b[1;31mModuleNotFoundError\u001b[0m: No module named 'Module'"
     ]
    }
   ],
   "source": [
    "import os\n",
    "import json\n",
    "from langchain.chains import ConversationChain\n",
    "from langchain import PromptTemplate\n",
    "from langchain.memory import ConversationBufferMemory\n",
    "from langchain.llms.base import LLM\n",
    "from Module.G4FLLM import G4FLLM\n",
    "import g4f\n",
    "from g4f import Provider, models\n",
    "\n",
    "llm: LLM = G4FLLM(model=models.gpt_35_turbo, provider=Provider.DeepAi, verbose=True)\n",
    "template = \"\"\"Question: {question}\n",
    "\n",
    "Answer: Let's think step by step.\"\"\"\n",
    "\n",
    "prompt = PromptTemplate(template=template, input_variables=[\"question\"])\n",
    "\n",
    "llmchain = ConversationChain(llm=llm, prompt=prompt, memory=ConversationBufferMemory())"
   ]
  },
  {
   "cell_type": "code",
   "execution_count": null,
   "metadata": {},
   "outputs": [],
   "source": []
  }
 ],
 "metadata": {
  "kernelspec": {
   "display_name": "worldstory_backend",
   "language": "python",
   "name": "python3"
  },
  "language_info": {
   "codemirror_mode": {
    "name": "ipython",
    "version": 3
   },
   "file_extension": ".py",
   "mimetype": "text/x-python",
   "name": "python",
   "nbconvert_exporter": "python",
   "pygments_lexer": "ipython3",
   "version": "3.10.11"
  },
  "orig_nbformat": 4
 },
 "nbformat": 4,
 "nbformat_minor": 2
}
